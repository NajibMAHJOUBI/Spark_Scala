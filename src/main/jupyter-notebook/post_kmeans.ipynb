{
 "cells": [
  {
   "cell_type": "code",
   "execution_count": 12,
   "metadata": {
    "collapsed": true
   },
   "outputs": [],
   "source": [
    "import numpy as np\n",
    "import matplotlib.pyplot as plt"
   ]
  },
  {
   "cell_type": "code",
   "execution_count": 13,
   "metadata": {
    "collapsed": true
   },
   "outputs": [],
   "source": [
    "df = spark.read.parquet(\"../../target/model/kmeans/\")"
   ]
  },
  {
   "cell_type": "code",
   "execution_count": 14,
   "metadata": {},
   "outputs": [
    {
     "name": "stdout",
     "output_type": "stream",
     "text": [
      "+--------------------+----------+\n",
      "|            features|prediction|\n",
      "+--------------------+----------+\n",
      "|[-9.5360896126163...|         5|\n",
      "|[-10.475577352736...|         5|\n",
      "+--------------------+----------+\n",
      "only showing top 2 rows\n",
      "\n"
     ]
    }
   ],
   "source": [
    "df.show(2)"
   ]
  },
  {
   "cell_type": "code",
   "execution_count": 15,
   "metadata": {},
   "outputs": [
    {
     "data": {
      "text/plain": [
       "Row(features=DenseVector([-9.5361, -11.0454]), prediction=5)"
      ]
     },
     "execution_count": 15,
     "metadata": {},
     "output_type": "execute_result"
    }
   ],
   "source": [
    "df.collect()[0]"
   ]
  },
  {
   "cell_type": "code",
   "execution_count": 16,
   "metadata": {},
   "outputs": [],
   "source": [
    "data = df \\\n",
    "        .rdd \\\n",
    "        .map(lambda x: (x[\"prediction\"], x[\"features\"].values)) \\\n",
    "        .collect()"
   ]
  },
  {
   "cell_type": "code",
   "execution_count": 21,
   "metadata": {},
   "outputs": [],
   "source": [
    "nbClusterIndices = df\\\n",
    ".select(\"prediction\")\\\n",
    ".distinct()\\\n",
    ".rdd\\\n",
    ".map(lambda x: x[\"prediction\"])\\\n",
    ".collect()\n",
    "\n",
    "color_maps = {indice: np.random.rand(3,1) for indice in nbClusterIndices}\n"
   ]
  },
  {
   "cell_type": "code",
   "execution_count": 29,
   "metadata": {},
   "outputs": [],
   "source": [
    "fig, ax = plt.subplots()\n",
    "\n",
    "for indice in nbClusterIndices:\n",
    "    cluster_data = (df\n",
    "                    .filter(df[\"prediction\"] == indice)\n",
    "                    .select(\"features\")\n",
    "                    .rdd\n",
    "                    .map(lambda x: x[\"features\"].values)\n",
    "                    .collect())\n",
    "    ax.plot(map(lambda x: x[0], cluster_data), \n",
    "            map(lambda x: x[1], cluster_data),\n",
    "            'o', c = color_maps[indice])\n",
    "\n",
    "ax.set_xlabel(\"x\")\n",
    "ax.set_ylabel(\"y\")\n",
    "ax.set_title(\"Cluster\")\n",
    "plt.show()"
   ]
  },
  {
   "cell_type": "code",
   "execution_count": 27,
   "metadata": {},
   "outputs": [
    {
     "data": {
      "text/plain": [
       "[-0.20238950221237434,\n",
       " 0.068542323971341523,\n",
       " 0.32753598197755246,\n",
       " -0.87193729827681332,\n",
       " 1.106409760369123,\n",
       " 0.68807874572959782,\n",
       " -0.78428011609205017,\n",
       " -0.39940505280122107,\n",
       " -0.54222681285805518,\n",
       " -1.00022650242455,\n",
       " 0.16527173890159791,\n",
       " 0.053188591266811754,\n",
       " -0.75141729717664663,\n",
       " -0.082507252152305893,\n",
       " -1.301011861131034,\n",
       " -0.25549403363956463,\n",
       " -0.67183325940780814,\n",
       " -0.50884614381952931,\n",
       " 0.93429466987582821,\n",
       " 0.32726896454058318,\n",
       " 0.15603807903929479,\n",
       " -1.1494436153843697,\n",
       " -0.056283229638414367,\n",
       " 0.85406144625408975,\n",
       " -0.39355506813746072,\n",
       " 0.40111563377641785,\n",
       " -0.26687995035576823,\n",
       " 0.11366997598441503,\n",
       " 1.0083621784682097,\n",
       " 0.85037904432808498,\n",
       " 0.85377669372987508,\n",
       " 0.92699364045292887,\n",
       " -0.092966580277975525,\n",
       " -0.019397399130531508,\n",
       " -0.021020807147674861,\n",
       " 0.879897104457662,\n",
       " 0.058582848028821514,\n",
       " -1.3547337014829073,\n",
       " 0.13898980873071834,\n",
       " -0.48726436673106865,\n",
       " 0.34334001998898772,\n",
       " 0.49101061402315166,\n",
       " 0.7673926416888962,\n",
       " 0.87303845772046573,\n",
       " -0.72064480362993233,\n",
       " -0.098983701834776089,\n",
       " 0.31093276292663641,\n",
       " 0.37845119256299348,\n",
       " 0.52698527293888697,\n",
       " -0.073625659504317709,\n",
       " 0.8273622954733646,\n",
       " 0.17764741225522077,\n",
       " 0.91460836947502056,\n",
       " -1.0368180788324042,\n",
       " -0.33422629556285527,\n",
       " -0.13906888395389835,\n",
       " 0.79262254258564624,\n",
       " 1.9695192331308062,\n",
       " 0.24667008657604803,\n",
       " -0.011690134736314138,\n",
       " -0.2948341324437227,\n",
       " 1.6200179883114472,\n",
       " -0.95446485239217194,\n",
       " -0.031393165243028091,\n",
       " 1.3016016025482662,\n",
       " 0.36358285917928918,\n",
       " 0.30230428014381427,\n",
       " 0.11693203021706791,\n",
       " 0.57423583637716002,\n",
       " -0.17899044210798246,\n",
       " -0.06996970186050315,\n",
       " 0.3038495094730751,\n",
       " -1.2118177030792594,\n",
       " 0.45611962791545835,\n",
       " -0.92541803190570271,\n",
       " -0.72899620453305092,\n",
       " 0.17446858608200319,\n",
       " -1.408082057990548,\n",
       " 0.1468328695187438,\n",
       " 1.2964404734073249,\n",
       " 0.82874646806438901,\n",
       " -0.70364619622924462,\n",
       " 0.43345609784059769,\n",
       " 0.092564924370647408,\n",
       " -0.9264500638783334,\n",
       " -0.40581674131066114,\n",
       " 0.28685187965977954,\n",
       " 0.44351272264363578,\n",
       " -0.60045712950787344,\n",
       " -0.9933922176882326,\n",
       " 0.13948313817113736,\n",
       " -0.61687762357160481,\n",
       " -0.95705125095783872,\n",
       " -1.1575910376640925,\n",
       " -1.2165885659695912,\n",
       " -0.78389354604287309,\n",
       " 0.14240061084806929,\n",
       " 0.54023827664102697,\n",
       " -0.015068153160643522,\n",
       " -0.37575590883541016]"
      ]
     },
     "execution_count": 27,
     "metadata": {},
     "output_type": "execute_result"
    }
   ],
   "source": [
    "map(lambda x: x[0], cluster_data)"
   ]
  },
  {
   "cell_type": "code",
   "execution_count": null,
   "metadata": {
    "collapsed": true
   },
   "outputs": [],
   "source": []
  }
 ],
 "metadata": {
  "kernelspec": {
   "display_name": "Python 2",
   "language": "python",
   "name": "python2"
  },
  "language_info": {
   "codemirror_mode": {
    "name": "ipython",
    "version": 2
   },
   "file_extension": ".py",
   "mimetype": "text/x-python",
   "name": "python",
   "nbconvert_exporter": "python",
   "pygments_lexer": "ipython2",
   "version": "2.7.13"
  }
 },
 "nbformat": 4,
 "nbformat_minor": 1
}
